{
 "cells": [
  {
   "cell_type": "code",
   "execution_count": 2,
   "id": "94aaa238-2ce0-4e77-85b6-54eccab940e4",
   "metadata": {
    "executionCancelledAt": null,
    "executionTime": 13,
    "lastExecutedAt": 1742555484835,
    "lastExecutedByKernel": "2fb2d6e3-f00a-4326-824b-8dd09244c6a7",
    "lastScheduledRunId": null,
    "lastSuccessfullyExecutedCode": "# Imported libraries\nimport pandas as pd\nimport matplotlib.pyplot as plt"
   },
   "outputs": [],
   "source": [
    "import pandas as pd\n",
    "import matplotlib.pyplot as plt"
   ]
  },
  {
   "cell_type": "code",
   "execution_count": 3,
   "id": "53512389-de16-46ab-8ece-019ff45d92be",
   "metadata": {
    "chartConfig": {
     "bar": {
      "hasRoundedCorners": true,
      "stacked": false
     },
     "type": "bar",
     "version": "v1"
    },
    "executionCancelledAt": null,
    "executionTime": 25,
    "lastExecutedAt": 1742555487612,
    "lastExecutedByKernel": "2fb2d6e3-f00a-4326-824b-8dd09244c6a7",
    "lastScheduledRunId": null,
    "lastSuccessfullyExecutedCode": "# Start coding here\n# Use as many cells as you like!\nY_death = pd.read_csv(\"data/yearly_deaths_by_clinic.csv\")\nY_death.head()",
    "outputsMetadata": {
     "0": {
      "height": 244,
      "tableState": {
       "quickFilterText": ""
      },
      "type": "dataFrame"
     }
    },
    "visualizeDataframe": false
   },
   "outputs": [
    {
     "data": {
      "text/html": [
       "<div>\n",
       "<style scoped>\n",
       "    .dataframe tbody tr th:only-of-type {\n",
       "        vertical-align: middle;\n",
       "    }\n",
       "\n",
       "    .dataframe tbody tr th {\n",
       "        vertical-align: top;\n",
       "    }\n",
       "\n",
       "    .dataframe thead th {\n",
       "        text-align: right;\n",
       "    }\n",
       "</style>\n",
       "<table border=\"1\" class=\"dataframe\">\n",
       "  <thead>\n",
       "    <tr style=\"text-align: right;\">\n",
       "      <th></th>\n",
       "      <th>year</th>\n",
       "      <th>births</th>\n",
       "      <th>deaths</th>\n",
       "      <th>clinic</th>\n",
       "    </tr>\n",
       "  </thead>\n",
       "  <tbody>\n",
       "    <tr>\n",
       "      <th>0</th>\n",
       "      <td>1841</td>\n",
       "      <td>3036</td>\n",
       "      <td>237</td>\n",
       "      <td>clinic 1</td>\n",
       "    </tr>\n",
       "    <tr>\n",
       "      <th>1</th>\n",
       "      <td>1842</td>\n",
       "      <td>3287</td>\n",
       "      <td>518</td>\n",
       "      <td>clinic 1</td>\n",
       "    </tr>\n",
       "    <tr>\n",
       "      <th>2</th>\n",
       "      <td>1843</td>\n",
       "      <td>3060</td>\n",
       "      <td>274</td>\n",
       "      <td>clinic 1</td>\n",
       "    </tr>\n",
       "    <tr>\n",
       "      <th>3</th>\n",
       "      <td>1844</td>\n",
       "      <td>3157</td>\n",
       "      <td>260</td>\n",
       "      <td>clinic 1</td>\n",
       "    </tr>\n",
       "    <tr>\n",
       "      <th>4</th>\n",
       "      <td>1845</td>\n",
       "      <td>3492</td>\n",
       "      <td>241</td>\n",
       "      <td>clinic 1</td>\n",
       "    </tr>\n",
       "  </tbody>\n",
       "</table>\n",
       "</div>"
      ],
      "text/plain": [
       "   year  births  deaths    clinic\n",
       "0  1841    3036     237  clinic 1\n",
       "1  1842    3287     518  clinic 1\n",
       "2  1843    3060     274  clinic 1\n",
       "3  1844    3157     260  clinic 1\n",
       "4  1845    3492     241  clinic 1"
      ]
     },
     "execution_count": 3,
     "metadata": {},
     "output_type": "execute_result"
    }
   ],
   "source": [
    "Y_deaths = pd.read_csv(\"data/yearly_deaths_by_clinic.csv\")\n",
    "Y_deaths.head()"
   ]
  },
  {
   "cell_type": "code",
   "execution_count": 4,
   "id": "4cf2406c-ef0d-4b5b-80d7-9c36c9b4d796",
   "metadata": {
    "executionCancelledAt": null,
    "executionTime": 22,
    "lastExecutedAt": 1742555490314,
    "lastExecutedByKernel": "2fb2d6e3-f00a-4326-824b-8dd09244c6a7",
    "lastScheduledRunId": null,
    "lastSuccessfullyExecutedCode": "M_death = pd.read_csv(\"data/monthly_deaths.csv\")\nM_death.head()",
    "outputsMetadata": {
     "0": {
      "height": 244,
      "tableState": {
       "customFilter": {
        "const": {
         "type": "boolean",
         "valid": true,
         "value": true
        },
        "id": "88514c7b-ed4f-4642-9645-82f6d001ae12",
        "nodeType": "const"
       },
       "quickFilterText": ""
      },
      "type": "dataFrame"
     }
    }
   },
   "outputs": [
    {
     "data": {
      "text/html": [
       "<div>\n",
       "<style scoped>\n",
       "    .dataframe tbody tr th:only-of-type {\n",
       "        vertical-align: middle;\n",
       "    }\n",
       "\n",
       "    .dataframe tbody tr th {\n",
       "        vertical-align: top;\n",
       "    }\n",
       "\n",
       "    .dataframe thead th {\n",
       "        text-align: right;\n",
       "    }\n",
       "</style>\n",
       "<table border=\"1\" class=\"dataframe\">\n",
       "  <thead>\n",
       "    <tr style=\"text-align: right;\">\n",
       "      <th></th>\n",
       "      <th>date</th>\n",
       "      <th>births</th>\n",
       "      <th>deaths</th>\n",
       "    </tr>\n",
       "  </thead>\n",
       "  <tbody>\n",
       "    <tr>\n",
       "      <th>0</th>\n",
       "      <td>1841-01-01</td>\n",
       "      <td>254</td>\n",
       "      <td>37</td>\n",
       "    </tr>\n",
       "    <tr>\n",
       "      <th>1</th>\n",
       "      <td>1841-02-01</td>\n",
       "      <td>239</td>\n",
       "      <td>18</td>\n",
       "    </tr>\n",
       "    <tr>\n",
       "      <th>2</th>\n",
       "      <td>1841-03-01</td>\n",
       "      <td>277</td>\n",
       "      <td>12</td>\n",
       "    </tr>\n",
       "    <tr>\n",
       "      <th>3</th>\n",
       "      <td>1841-04-01</td>\n",
       "      <td>255</td>\n",
       "      <td>4</td>\n",
       "    </tr>\n",
       "    <tr>\n",
       "      <th>4</th>\n",
       "      <td>1841-05-01</td>\n",
       "      <td>255</td>\n",
       "      <td>2</td>\n",
       "    </tr>\n",
       "  </tbody>\n",
       "</table>\n",
       "</div>"
      ],
      "text/plain": [
       "         date  births  deaths\n",
       "0  1841-01-01     254      37\n",
       "1  1841-02-01     239      18\n",
       "2  1841-03-01     277      12\n",
       "3  1841-04-01     255       4\n",
       "4  1841-05-01     255       2"
      ]
     },
     "execution_count": 4,
     "metadata": {},
     "output_type": "execute_result"
    }
   ],
   "source": [
    "M_deaths = pd.read_csv(\"data/monthly_deaths.csv\")\n",
    "M_deaths.head()"
   ]
  },
  {
   "cell_type": "code",
   "execution_count": 5,
   "id": "6a890b63-116f-4c99-b5f6-fbb36990d81a",
   "metadata": {
    "executionCancelledAt": null,
    "executionTime": 14,
    "lastExecutedAt": 1742555493123,
    "lastExecutedByKernel": "2fb2d6e3-f00a-4326-824b-8dd09244c6a7",
    "lastScheduledRunId": null,
    "lastSuccessfullyExecutedCode": "yearly_deaths = Y_death.groupby(\"year\")[\"deaths\"].sum()",
    "outputsMetadata": {
     "0": {
      "height": 50,
      "tableState": {
       "customFilter": {
        "const": {
         "type": "boolean",
         "valid": true,
         "value": true
        },
        "id": "88abd99d-c15c-4e6a-b571-74620025d6c0",
        "nodeType": "const"
       },
       "quickFilterText": ""
      },
      "type": "dataFrame"
     }
    }
   },
   "outputs": [],
   "source": [
    "yearly_deaths = Y_deaths.groupby(\"year\")[\"deaths\"].sum()"
   ]
  },
  {
   "cell_type": "code",
   "execution_count": 6,
   "id": "6c3efea6-e1b5-400c-9330-622fa68c887d",
   "metadata": {
    "executionCancelledAt": null,
    "executionTime": 48,
    "lastExecutedAt": 1742555495469,
    "lastExecutedByKernel": "2fb2d6e3-f00a-4326-824b-8dd09244c6a7",
    "lastScheduledRunId": null,
    "lastSuccessfullyExecutedCode": "highest_year = yearly_deaths.idxmax()",
    "outputsMetadata": {
     "0": {
      "height": 50,
      "tableState": {
       "customFilter": {
        "const": {
         "type": "boolean",
         "valid": true,
         "value": true
        },
        "id": "88abd99d-c15c-4e6a-b571-74620025d6c0",
        "nodeType": "const"
       },
       "quickFilterText": ""
      },
      "type": "dataFrame"
     }
    }
   },
   "outputs": [],
   "source": [
    "highest_year = yearly_deaths.idxmax()"
   ]
  },
  {
   "cell_type": "code",
   "execution_count": 7,
   "id": "69486216-f3ec-4fa0-accf-c135deb5d30a",
   "metadata": {
    "executionCancelledAt": null,
    "executionTime": 13,
    "lastExecutedAt": 1742555498048,
    "lastExecutedByKernel": "2fb2d6e3-f00a-4326-824b-8dd09244c6a7",
    "lastScheduledRunId": null,
    "lastSuccessfullyExecutedCode": "highest_year"
   },
   "outputs": [
    {
     "data": {
      "text/plain": [
       "1842"
      ]
     },
     "execution_count": 7,
     "metadata": {},
     "output_type": "execute_result"
    }
   ],
   "source": [
    "highest_year"
   ]
  },
  {
   "cell_type": "code",
   "execution_count": 8,
   "id": "c6b2a84a-c0d5-4949-be36-c0d464021f8c",
   "metadata": {
    "executionCancelledAt": null,
    "executionTime": 14,
    "lastExecutedAt": 1742555500445,
    "lastExecutedByKernel": "2fb2d6e3-f00a-4326-824b-8dd09244c6a7",
    "lastScheduledRunId": null,
    "lastSuccessfullyExecutedCode": "Y_death[\"clinic\"].unique()"
   },
   "outputs": [
    {
     "data": {
      "text/plain": [
       "array(['clinic 1', 'clinic 2'], dtype=object)"
      ]
     },
     "execution_count": 8,
     "metadata": {},
     "output_type": "execute_result"
    }
   ],
   "source": [
    "Y_deaths[\"clinic\"].unique()"
   ]
  },
  {
   "cell_type": "code",
   "execution_count": 9,
   "id": "3bf233c2-501e-4dc9-84d7-6dbc839419af",
   "metadata": {
    "executionCancelledAt": null,
    "executionTime": 13,
    "lastExecutedAt": 1742555503688,
    "lastExecutedByKernel": "2fb2d6e3-f00a-4326-824b-8dd09244c6a7",
    "lastScheduledRunId": null,
    "lastSuccessfullyExecutedCode": "Y_death[\"proportion_deaths\"] = Y_death[\"deaths\"]/Y_death[\"births\"]"
   },
   "outputs": [],
   "source": [
    "Y_deaths[\"proportion_deaths\"] = Y_deaths[\"deaths\"]/Y_deaths[\"births\"]"
   ]
  },
  {
   "cell_type": "code",
   "execution_count": 10,
   "id": "b2d69e28-e809-4282-a760-2beed0c41873",
   "metadata": {
    "executionCancelledAt": null,
    "executionTime": 267,
    "lastExecutedAt": 1742555531912,
    "lastExecutedByKernel": "2fb2d6e3-f00a-4326-824b-8dd09244c6a7",
    "lastScheduledRunId": null,
    "lastSuccessfullyExecutedCode": "for clinic in Y_death['clinic'].unique():\n    clinic_data = Y_death[Y_death['clinic'] == clinic]\n    plt.plot(clinic_data['year'], clinic_data['proportion_deaths'], label=clinic)"
   },
   "outputs": [
    {
     "data": {
      "image/png": "[encoded data removed]",
      "text/plain": [
       "<Figure size 640x480 with 1 Axes>"
      ]
     },
     "metadata": {},
     "output_type": "display_data"
    }
   ],
   "source": [
    "for clinic in Y_deaths['clinic'].unique():\n",
    "    clinic_data = Y_deaths[Y_deaths['clinic'] == clinic]\n",
    "    plt.plot(clinic_data['year'], clinic_data['proportion_deaths'], label=clinic)"
   ]
  },
  {
   "cell_type": "code",
   "execution_count": 11,
   "id": "973fa8fe-0a68-4771-bd00-d3fe3d9eba2b",
   "metadata": {
    "executionCancelledAt": null,
    "executionTime": 14,
    "lastExecutedAt": 1742555997087,
    "lastExecutedByKernel": "2fb2d6e3-f00a-4326-824b-8dd09244c6a7",
    "lastScheduledRunId": null,
    "lastSuccessfullyExecutedCode": "M_death[\"proportion_deaths\"] = M_death[\"deaths\"]/M_death[\"births\"]"
   },
   "outputs": [],
   "source": [
    "M_deaths[\"proportion_deaths\"] = M_deaths[\"deaths\"]/M_deaths[\"births\"]"
   ]
  },
  {
   "cell_type": "code",
   "execution_count": 12,
   "id": "996c5db6-e63e-47c9-8362-056a8150415d",
   "metadata": {
    "executionCancelledAt": null,
    "executionTime": 54,
    "lastExecutedAt": 1742556065341,
    "lastExecutedByKernel": "2fb2d6e3-f00a-4326-824b-8dd09244c6a7",
    "lastScheduledRunId": null,
    "lastSuccessfullyExecutedCode": "handwashing_start = '1847-06-01'"
   },
   "outputs": [],
   "source": [
    "handwashing_start = '1847-06-01'"
   ]
  },
  {
   "cell_type": "code",
   "execution_count": 13,
   "id": "713c148a-e683-491c-b647-d15db6f371fc",
   "metadata": {
    "executionCancelledAt": null,
    "executionTime": 13,
    "lastExecutedAt": 1742556186808,
    "lastExecutedByKernel": "2fb2d6e3-f00a-4326-824b-8dd09244c6a7",
    "lastScheduledRunId": null,
    "lastSuccessfullyExecutedCode": "M_death[\"handwashing_started\"] = M_death[\"date\"] >= handwashing_start"
   },
   "outputs": [],
   "source": [
    "M_deaths[\"handwashing_started\"] = M_deaths[\"date\"] >= handwashing_start"
   ]
  },
  {
   "cell_type": "code",
   "execution_count": 14,
   "id": "9cae8bf5-2062-449d-a461-e854e5c880a5",
   "metadata": {
    "executionCancelledAt": null,
    "executionTime": 21,
    "lastExecutedAt": 1742556434100,
    "lastExecutedByKernel": "2fb2d6e3-f00a-4326-824b-8dd09244c6a7",
    "lastScheduledRunId": null,
    "lastSuccessfullyExecutedCode": "monthly_summary = M_death.groupby('handwashing_started').agg(mean_proportion_deaths = ('proportion_deaths','mean')).reset_index()\n\nprint(monthly_summary)"
   },
   "outputs": [
    {
     "name": "stdout",
     "output_type": "stream",
     "text": [
      "   handwashing_started  mean_proportion_deaths\n",
      "0                False                0.105050\n",
      "1                 True                0.021093\n"
     ]
    }
   ],
   "source": [
    "monthly_summary = M_deaths.groupby('handwashing_started').agg(mean_proportion_deaths\n",
    "                                                              = ('proportion_deaths','mean')).reset_index()\n",
    "\n",
    "print(monthly_summary)"
   ]
  },
  {
   "cell_type": "code",
   "execution_count": 15,
   "id": "f9395d8f-b034-4f94-a1c3-4d42581e854d",
   "metadata": {
    "executionCancelledAt": null,
    "executionTime": 53,
    "lastExecutedAt": 1742556770365,
    "lastExecutedByKernel": "2fb2d6e3-f00a-4326-824b-8dd09244c6a7",
    "lastScheduledRunId": null,
    "lastSuccessfullyExecutedCode": "before_washing = M_death[M_death[\"date\"] < handwashing_start]\nafter_washing = M_death[M_death[\"date\"] >= handwashing_start]\nbefore_proportion = before_washing[\"proportion_deaths\"]\nafter_proportion = after_washing[\"proportion_deaths\"]\n"
   },
   "outputs": [],
   "source": [
    "before_washing = M_deaths[M_deaths[\"date\"] < handwashing_start]\n",
    "after_washing = M_deaths[M_deaths[\"date\"] >= handwashing_start]\n",
    "before_proportion = before_washing[\"proportion_deaths\"]\n",
    "after_proportion = after_washing[\"proportion_deaths\"]\n"
   ]
  },
  {
   "cell_type": "code",
   "execution_count": 16,
   "id": "6b0dc8ba-3c3d-4ef9-82f4-da667ebd4c8f",
   "metadata": {
    "executionCancelledAt": null,
    "executionTime": 1236,
    "lastExecutedAt": 1742557203030,
    "lastExecutedByKernel": "2fb2d6e3-f00a-4326-824b-8dd09244c6a7",
    "lastScheduledRunId": null,
    "lastSuccessfullyExecutedCode": "boot_mean_diff = []\n\nfor i in range(5000):\n    boot_before = before_proportion.sample(frac = 1, replace = True)\n    boot_after = after_proportion.sample(frac = 1, replace = True)\n    boot_mean_diff.append(boot_after.mean() - boot_before.mean())"
   },
   "outputs": [],
   "source": [
    "boot_mean_diff = []\n",
    "\n",
    "for i in range(5000):\n",
    "    boot_before = before_proportion.sample(frac = 1, replace = True)\n",
    "    boot_after = after_proportion.sample(frac = 1, replace = True)\n",
    "    boot_mean_diff.append(boot_after.mean() - boot_before.mean())"
   ]
  },
  {
   "cell_type": "code",
   "execution_count": 17,
   "id": "8911f405-a85d-4fc1-97b8-98d59036581b",
   "metadata": {
    "executionCancelledAt": null,
    "executionTime": 16,
    "lastExecutedAt": 1742557367024,
    "lastExecutedByKernel": "2fb2d6e3-f00a-4326-824b-8dd09244c6a7",
    "lastScheduledRunId": null,
    "lastSuccessfullyExecutedCode": "confidence_interval = pd.Series(boot_mean_diff).quantile([0.025,0.975])\nprint(confidence_interval)"
   },
   "outputs": [
    {
     "name": "stdout",
     "output_type": "stream",
     "text": [
      "0.025   -0.100485\n",
      "0.975   -0.067739\n",
      "dtype: float64\n"
     ]
    }
   ],
   "source": [
    "confidence_interval = pd.Series(boot_mean_diff).quantile([0.025,0.975])\n",
    "print(confidence_interval)"
   ]
  }
 ],
 "metadata": {
  "colab": {
   "name": "Welcome to DataCamp Workspaces.ipynb",
   "provenance": []
  },
  "editor": "DataLab",
  "kernelspec": {
   "display_name": "Python 3",
   "language": "python",
   "name": "python3"
  },
  "language_info": {
   "codemirror_mode": {
    "name": "ipython",
    "version": 3
   },
   "file_extension": ".py",
   "mimetype": "text/x-python",
   "name": "python",
   "nbconvert_exporter": "python",
   "pygments_lexer": "ipython3",
   "version": "3.12.4"
  }
 },
 "nbformat": 4,
 "nbformat_minor": 5
}
